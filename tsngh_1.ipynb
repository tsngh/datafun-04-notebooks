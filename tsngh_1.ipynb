{
 "cells": [
  {
   "cell_type": "markdown",
   "metadata": {},
   "source": [
    "# Module 4 Project\n",
    "By: [Tesheena](https://github.com/tsngh)\n",
    "\n",
    "Week 4: [Repository](https://github.com/tsngh/datafun-04-notebooks)"
   ]
  }
 ],
 "metadata": {
  "language_info": {
   "name": "python"
  },
  "orig_nbformat": 4
 },
 "nbformat": 4,
 "nbformat_minor": 2
}
