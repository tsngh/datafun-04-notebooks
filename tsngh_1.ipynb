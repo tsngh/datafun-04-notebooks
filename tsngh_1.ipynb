{
 "cells": [
  {
   "cell_type": "markdown",
   "metadata": {},
   "source": [
    "# Module 4 Project\n",
    "By: [Tesheena](https://github.com/tsngh)\n",
    "\n",
    "Week 4: [Repository](https://github.com/tsngh/datafun-04-notebooks)"
   ]
  },
  {
   "cell_type": "markdown",
   "metadata": {},
   "source": [
    "##Task 1- Series"
   ]
  },
  {
   "cell_type": "code",
   "execution_count": 4,
   "metadata": {},
   "outputs": [],
   "source": [
    "import pandas as pd\n",
    "import numpy as np"
   ]
  },
  {
   "cell_type": "code",
   "execution_count": 8,
   "metadata": {},
   "outputs": [
    {
     "name": "stdout",
     "output_type": "stream",
     "text": [
      "First Value: 87\n",
      "Count: 10\n",
      "Mean: 86.7\n",
      "Minimum: 76\n",
      "Maximum: 100\n",
      "Standard Deviation: 7.832269431297958\n",
      "Description: count     10.00\n",
      "mean      86.70\n",
      "std        7.83\n",
      "min       76.00\n",
      "25%       81.00\n",
      "50%       86.00\n",
      "75%       92.50\n",
      "max      100.00\n",
      "dtype: float64\n"
     ]
    }
   ],
   "source": [
    "grades = pd.Series([87, 100, 94, 85, 77, 93, 84, 76, 91, 80])\n",
    "first= grades[0]\n",
    "count= grades.count()\n",
    "mean= grades.mean()\n",
    "min= grades.min()\n",
    "max= grades.max()\n",
    "std= grades.std()\n",
    "dcrp= grades.describe().round(2)\n",
    "\n",
    "print(\"First Value:\", first)\n",
    "print(\"Count:\", count)\n",
    "print(\"Mean:\", mean)\n",
    "print(\"Minimum:\", min)\n",
    "print(\"Maximum:\", max)\n",
    "print(\"Standard Deviation:\", std)\n",
    "\n",
    "print(\"Description:\", dcrp)"
   ]
  },
  {
   "cell_type": "markdown",
   "metadata": {},
   "source": [
    "##Task 2 - Series from Dictionary"
   ]
  },
  {
   "cell_type": "code",
   "execution_count": 11,
   "metadata": {},
   "outputs": [
    {
     "name": "stdout",
     "output_type": "stream",
     "text": [
      "Wally     87\n",
      "Eva      100\n",
      "Sam       94\n",
      "dtype: int64\n"
     ]
    }
   ],
   "source": [
    "grades = pd.Series({'Wally': 87, 'Eva': 100, 'Sam': 94})\n",
    "print(grades)\n"
   ]
  },
  {
   "cell_type": "code",
   "execution_count": 12,
   "metadata": {},
   "outputs": [
    {
     "name": "stdout",
     "output_type": "stream",
     "text": [
      "100\n"
     ]
    }
   ],
   "source": [
    "print(grades['Eva'])\n"
   ]
  },
  {
   "cell_type": "code",
   "execution_count": 13,
   "metadata": {},
   "outputs": [
    {
     "name": "stdout",
     "output_type": "stream",
     "text": [
      "87\n"
     ]
    }
   ],
   "source": [
    "print(grades.Wally)\n"
   ]
  },
  {
   "cell_type": "code",
   "execution_count": 14,
   "metadata": {},
   "outputs": [
    {
     "data": {
      "text/plain": [
       "array([ 87, 100,  94], dtype=int64)"
      ]
     },
     "execution_count": 14,
     "metadata": {},
     "output_type": "execute_result"
    }
   ],
   "source": [
    "grades.values"
   ]
  },
  {
   "cell_type": "markdown",
   "metadata": {},
   "source": [
    "##Self Check (pg 266)"
   ]
  },
  {
   "cell_type": "code",
   "execution_count": 15,
   "metadata": {},
   "outputs": [
    {
     "name": "stdout",
     "output_type": "stream",
     "text": [
      "0    97\n",
      "1    71\n",
      "2    95\n",
      "3    86\n",
      "4    89\n",
      "5    60\n",
      "dtype: int32\n"
     ]
    }
   ],
   "source": [
    "temps = np.random.randint(60, 101, 6)\n",
    "temperatures = pd.Series(temps)\n",
    "print(temperatures)"
   ]
  },
  {
   "cell_type": "code",
   "execution_count": 16,
   "metadata": {},
   "outputs": [
    {
     "name": "stdout",
     "output_type": "stream",
     "text": [
      "The lowest temp is: 60\n",
      "The highest temp is: 97\n",
      "The average temp is: 83.0\n"
     ]
    }
   ],
   "source": [
    "lowest = temperatures.min()\n",
    "highest = temperatures.max()\n",
    "average= temperatures.mean()\n",
    "\n",
    "print(\"The lowest temp is:\", lowest)\n",
    "print(\"The highest temp is:\", highest)\n",
    "print(\"The average temp is:\", average)"
   ]
  },
  {
   "cell_type": "code",
   "execution_count": 17,
   "metadata": {},
   "outputs": [
    {
     "data": {
      "text/plain": [
       "count     6.00\n",
       "mean     83.00\n",
       "std      14.55\n",
       "min      60.00\n",
       "25%      74.75\n",
       "50%      87.50\n",
       "75%      93.50\n",
       "max      97.00\n",
       "dtype: float64"
      ]
     },
     "execution_count": 17,
     "metadata": {},
     "output_type": "execute_result"
    }
   ],
   "source": [
    "temperatures.describe().round(2)"
   ]
  }
 ],
 "metadata": {
  "kernelspec": {
   "display_name": "Python (.venv)",
   "language": "python",
   "name": ".venv"
  },
  "language_info": {
   "codemirror_mode": {
    "name": "ipython",
    "version": 3
   },
   "file_extension": ".py",
   "mimetype": "text/x-python",
   "name": "python",
   "nbconvert_exporter": "python",
   "pygments_lexer": "ipython3",
   "version": "3.11.4"
  },
  "orig_nbformat": 4
 },
 "nbformat": 4,
 "nbformat_minor": 2
}
