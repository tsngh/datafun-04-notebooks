{
 "cells": [
  {
   "cell_type": "markdown",
   "metadata": {},
   "source": [
    "# Module 4 Project\n",
    "By: [Tesheena](https://github.com/tsngh)\n",
    "\n",
    "Week 4: [Repository](https://github.com/tsngh/datafun-04-notebooks)"
   ]
  },
  {
   "cell_type": "markdown",
   "metadata": {},
   "source": [
    "##Task 1- Series"
   ]
  },
  {
   "cell_type": "code",
   "execution_count": 4,
   "metadata": {},
   "outputs": [],
   "source": [
    "import pandas as pd\n",
    "import numpy as np"
   ]
  },
  {
   "cell_type": "code",
   "execution_count": 8,
   "metadata": {},
   "outputs": [
    {
     "name": "stdout",
     "output_type": "stream",
     "text": [
      "First Value: 87\n",
      "Count: 10\n",
      "Mean: 86.7\n",
      "Minimum: 76\n",
      "Maximum: 100\n",
      "Standard Deviation: 7.832269431297958\n",
      "Description: count     10.00\n",
      "mean      86.70\n",
      "std        7.83\n",
      "min       76.00\n",
      "25%       81.00\n",
      "50%       86.00\n",
      "75%       92.50\n",
      "max      100.00\n",
      "dtype: float64\n"
     ]
    }
   ],
   "source": [
    "grades = pd.Series([87, 100, 94, 85, 77, 93, 84, 76, 91, 80])\n",
    "first= grades[0]\n",
    "count= grades.count()\n",
    "mean= grades.mean()\n",
    "min= grades.min()\n",
    "max= grades.max()\n",
    "std= grades.std()\n",
    "dcrp= grades.describe().round(2)\n",
    "\n",
    "print(\"First Value:\", first)\n",
    "print(\"Count:\", count)\n",
    "print(\"Mean:\", mean)\n",
    "print(\"Minimum:\", min)\n",
    "print(\"Maximum:\", max)\n",
    "print(\"Standard Deviation:\", std)\n",
    "\n",
    "print(\"Description:\", dcrp)"
   ]
  }
 ],
 "metadata": {
  "kernelspec": {
   "display_name": "Python (.venv)",
   "language": "python",
   "name": ".venv"
  },
  "language_info": {
   "codemirror_mode": {
    "name": "ipython",
    "version": 3
   },
   "file_extension": ".py",
   "mimetype": "text/x-python",
   "name": "python",
   "nbconvert_exporter": "python",
   "pygments_lexer": "ipython3",
   "version": "3.11.4"
  },
  "orig_nbformat": 4
 },
 "nbformat": 4,
 "nbformat_minor": 2
}
